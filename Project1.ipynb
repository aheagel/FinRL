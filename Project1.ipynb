{
  "cells": [
    {
      "cell_type": "markdown",
      "metadata": {
        "id": "view-in-github",
        "colab_type": "text"
      },
      "source": [
        "<a href=\"https://colab.research.google.com/github/aheagel/FinRL/blob/master/Project1.ipynb\" target=\"_parent\"><img src=\"https://colab.research.google.com/assets/colab-badge.svg\" alt=\"Open In Colab\"/></a>"
      ]
    },
    {
      "cell_type": "code",
      "execution_count": 213,
      "metadata": {
        "id": "r5McSKJgBW6m"
      },
      "outputs": [],
      "source": [
        "#%pip install gamspy"
      ]
    },
    {
      "cell_type": "code",
      "source": [
        "#! gamspy install license 204a1a5e-5e64-4583-a281-508165b2ee7e"
      ],
      "metadata": {
        "id": "OHqIIxlQN24y"
      },
      "execution_count": 214,
      "outputs": []
    },
    {
      "cell_type": "code",
      "source": [
        "from gamspy import Container, Set, Parameter, Variable, Equation, Model, Sum, Alias, Sense, Options\n",
        "import pandas as pd"
      ],
      "metadata": {
        "id": "8irGnThgEZg_"
      },
      "execution_count": 215,
      "outputs": []
    },
    {
      "cell_type": "markdown",
      "source": [
        "# Initiated Pandas dataframes"
      ],
      "metadata": {
        "id": "wcdidZWG3MyB"
      }
    },
    {
      "cell_type": "code",
      "source": [
        "products = [\"A\", \"B\", \"C\"]\n",
        "crude_oil = [\"co1\", \"co2\"]\n",
        "week = [\"1\", \"2\", \"3\"]\n",
        "\n",
        "A_price = 1000 # SEK per unit\n",
        "B_price = 740 # SEK per unit\n",
        "\n",
        "CrdOil1_price = 500 # SEK per unit\n",
        "CrdOil1_purchase_limit = 300 # units\n",
        "CrdOil1_std = 20 # units\n",
        "CrdOil1_mean = 300 # units\n",
        "CrdOil1_extra = 700 # SEK per unit\n",
        "\n",
        "CrdOil2_price = 600 # SEK per unit\n",
        "CrdOil2_purchase_limit = 300 # units\n",
        "\n",
        "CrdConv_cost = 100 # SEK per unit\n",
        "CrdConv_limit = 500 # units\n",
        "\n",
        "ReConv_cost = 80 # SEK per unit\n",
        "ReConv_limit = 300 # units\n",
        "\n",
        "Storage_cost = 20 # SEK per unit\n",
        "\n",
        "\n",
        "_Oil2Prod = pd.DataFrame({\n",
        "    \"Product\": products,\n",
        "    \"co1\":  [0.5, 0.3,  0.2],\n",
        "    \"co2\":  [0.7, 0.2,  0.1],\n",
        "})\n",
        "\n",
        "_Prod2Prod = pd.DataFrame({\n",
        "    \"Product\": products,\n",
        "    \"A\":        [0.0, 0.0,  0.0],\n",
        "    \"B\":        [0.9, 0.1,  0.0],\n",
        "    \"C\":        [0.7, 0.3,  0.0],\n",
        "})\n",
        "\n",
        "_Sell_limit = pd.DataFrame({\n",
        "    \"Product\": products,\n",
        "    \"1\":        [250, 250,  250],\n",
        "    \"2\":        [30,  130,  130],\n",
        "    \"3\":        [0,   0,    0  ],\n",
        "})\n",
        "\n",
        "_Product_criteria = pd.DataFrame({\n",
        "    \"Product\":    products,\n",
        "    \"sell_price\": [A_price, B_price, 0],\n",
        "})\n",
        "\n",
        "_Oil_criteria = pd.DataFrame({\n",
        "    \"Oil\": crude_oil,\n",
        "    \"purchase_price\": [CrdOil1_price, CrdOil2_price],\n",
        "    \"purchase_limit\": [CrdOil1_purchase_limit, CrdOil2_purchase_limit],\n",
        "})\n",
        "# Gamspy is still not really good so we need to vectorize the pandas frames.\n",
        "# Vectorized (melted) version\n",
        "_Oil2Prod =  _Oil2Prod.melt(id_vars=\"Product\", var_name=\"Oil\", value_name=\"rate\")\n",
        "_Prod2Prod =  _Prod2Prod.melt(id_vars=\"Product\", var_name=\"PP\", value_name=\"rate\")\n",
        "_Sell_limit = _Sell_limit.melt(id_vars=\"Product\", var_name=\"Week\", value_name=\"limit\")"
      ],
      "metadata": {
        "id": "EwGRF29e3Rnu"
      },
      "execution_count": 216,
      "outputs": []
    },
    {
      "cell_type": "markdown",
      "source": [
        "# Initiate"
      ],
      "metadata": {
        "id": "VHNIiEhFLh9w"
      }
    },
    {
      "cell_type": "code",
      "source": [
        "m = Container()"
      ],
      "metadata": {
        "id": "sLmK9CznQLj7"
      },
      "execution_count": 217,
      "outputs": []
    },
    {
      "cell_type": "code",
      "source": [
        "t = Set(m,\n",
        "        name=       \"time\",\n",
        "      \tdescription=\"time in weeks\",\n",
        "        records=week,\n",
        "        )\n",
        "\n",
        "o = Set(m,\n",
        "        name=       \"crude_oil\",\n",
        "        description=\"the different types of crude oil we can buy\",\n",
        "        records=crude_oil,\n",
        "        )\n",
        "\n",
        "p = Set(m,\n",
        "        name=       \"products\",\n",
        "        description=\"the different types of end products we can sell\",\n",
        "        records=products,\n",
        "        )\n",
        "\n",
        "pp = Alias(m, \"pp\", p)"
      ],
      "metadata": {
        "id": "g08pfXLgLlKa"
      },
      "execution_count": 218,
      "outputs": []
    },
    {
      "cell_type": "markdown",
      "source": [
        "# Constants"
      ],
      "metadata": {
        "id": "v7YE-Y6b2eNR"
      }
    },
    {
      "cell_type": "code",
      "source": [
        "Purchase_Price = Parameter(m, name=\"oilprice\", domain=[o], description=\"Oil price\", records=_Oil_criteria[[\"Oil\", \"purchase_price\"]])\n",
        "Purchase_Limit = Parameter(m, name=\"purchaselimit\", domain=[o], description=\"Oil purchase limit\", records=_Oil_criteria[[\"Oil\", \"purchase_limit\"]])\n",
        "\n",
        "Sell_Price = Parameter(m, name=\"sellprice\", domain=[p], description=\"Products sell price\", records=_Product_criteria[[\"Product\", \"sell_price\"]])\n",
        "Sell_limit = Parameter(m, name=\"selllimit\", domain=[p,t], description=\"Products sell limit\", records=_Sell_limit[[\"Product\", \"Week\", \"limit\"]])\n",
        "\n",
        "Crude_Conv_ratio = Parameter(m, name=\"convratio\", domain=[o,p], description=\"Crude oil conversion ratio\", records=_Oil2Prod[[\"Oil\", \"Product\", \"rate\"]])\n",
        "Re_Conv_ratio = Parameter(m, name=\"reconvratio\", domain=[p,pp], description=\"Reconversion ratio\", records=_Prod2Prod[[\"Product\", \"PP\", \"rate\"]])\n"
      ],
      "metadata": {
        "id": "lL0spsJ1Tnkl"
      },
      "execution_count": 219,
      "outputs": []
    },
    {
      "cell_type": "markdown",
      "source": [
        "# Variable (The thing we are after)"
      ],
      "metadata": {
        "id": "Qnnu9LLDI88B"
      }
    },
    {
      "cell_type": "code",
      "source": [
        "Oil2Buy = Variable(m, name=\"oil_to_buy\", domain=[o,t], description=\"self_explanatory\")\n",
        "ConvProd = Variable(m, name=\"converted_products\", domain=[p,t], description=\"self_explanatory\")\n",
        "Conv2Tot = Variable(m, name=\"converted_to_tot\", domain=[p,t], description=\"the products that will be at the end from conv\")\n",
        "ReConv2Tot = Variable(m, name=\"reconverted_to_tot\", domain=[p,t], description=\"the products that will be at the end from reconv\")\n",
        "Tot2Save = Variable(m, name=\"total_to_save\", domain=[p,t], description=\"self_explanatory\")"
      ],
      "metadata": {
        "id": "WU02_N-0XPA1"
      },
      "execution_count": 220,
      "outputs": []
    },
    {
      "cell_type": "markdown",
      "source": [
        "# Equations"
      ],
      "metadata": {
        "id": "D2MWUFASI0Zb"
      }
    },
    {
      "cell_type": "code",
      "source": [
        "# Purchase parity equation\n",
        "Oil2Buy.up[o,t] = Purchase_Limit[o]\n",
        "\n",
        "# Oil conversion equation\n",
        "CrudConv = Equation(m, name=\"CrudConv\", domain=[p,o,t], description=\"calculate ammount of expected ConvProd\")\n",
        "CrudConv[p,o,t] = ConvProd[p,t] == Crude_Conv_ratio[o,p] * Oil2Buy[o,t] #+ Tot2Save[p,t-1]\n",
        "\n",
        "# ConvProd to sell directly constraint\n",
        "Direct_saleA = Equation(m, name=\"Direct_saleA\", domain=[p,t], description=\"calculate ammount of prod A expected Conv2Tot\")\n",
        "Direct_saleA[\"A\",t] = Conv2Tot[\"A\",t] == ConvProd[\"A\",t]\n",
        "\n",
        "Direct_saleB = Equation(m, name=\"Direct_saleB\", domain=[p,t], description=\"calculate ammount of prod B expected Conv2Tot\") # Because you cant have quality and leq in the same equation :/\n",
        "Direct_saleB[\"B\",t] = Conv2Tot[\"B\",t] <= ConvProd[\"B\",t]\n",
        "\n",
        "Direct_saleC = Equation(m, name=\"Direct_saleC\", domain=[p,t], description=\"calculate ammount of prod C expected Conv2Tot\")\n",
        "Direct_saleC[\"C\",t] = Conv2Tot[\"C\",t] == 0\n",
        "\n",
        "# ReConvProd conversion equation\n",
        "ReConversion = Equation(m, name=\"ReConversion\", domain=[p,t], description=\"calculate ammount of expected ConvProd\")\n",
        "ReConversion[p,t] = ReConv2Tot[p,t] == Sum(pp, Re_Conv_ratio[pp,p] * (ConvProd[p,t]-Conv2Tot[p,t])) # ConvProd[p,t]-Conv2Tot[p,t] = Conv2ReConv\n",
        "\n",
        "# Save parity equation\n",
        "Save_parity = Equation(m, name=\"Save_parity\", domain=[p,t], description=\"calculate ammount to be saved each week\")\n",
        "Save_parity[p,t] = Tot2Save[p,t] <= Conv2Tot[p,t] + ReConv2Tot[p,t]  # Conv2Tot[p,t] + ReConv2Tot[p,t] = Total products\n",
        "\n",
        "# Sell limit constraint\n",
        "Sell_limit_constraint = Equation(m, name=\"Sell_limit_constraint\", domain=[p,t], description=\"limit sales\")\n",
        "Sell_limit_constraint[p,t] = Sell_limit[p,t] >= Conv2Tot[p,t] + ReConv2Tot[p,t] - Tot2Save[p,t]\n"
      ],
      "metadata": {
        "id": "sBioA3VxXHmf"
      },
      "execution_count": 221,
      "outputs": []
    },
    {
      "cell_type": "markdown",
      "source": [
        "# Objective function"
      ],
      "metadata": {
        "id": "R-r-ddMCe7c0"
      }
    },
    {
      "cell_type": "code",
      "source": [
        "obj = Sum((p,o,t), Sell_Price[p] * (Conv2Tot[p,t]+ReConv2Tot[p,t]-Tot2Save[p,t])\n",
        "          -Purchase_Price[o] * Oil2Buy[o,t]\n",
        "          -CrdConv_cost * ConvProd[p,t]\n",
        "          -ReConv_cost * ReConv2Tot[p,t]\n",
        "          -Storage_cost * Tot2Save[p,t]\n",
        "          )"
      ],
      "metadata": {
        "id": "wuUk63qBc8dI"
      },
      "execution_count": 222,
      "outputs": []
    },
    {
      "cell_type": "markdown",
      "source": [
        "# Solver"
      ],
      "metadata": {
        "id": "iKnxgMN3hK74"
      }
    },
    {
      "cell_type": "code",
      "source": [
        "flow = Model(m, name=\"flow\", equations=m.getEquations(), objective=obj, problem=\"LP\", sense=Sense.MAX)\n",
        "flow.solve(solver=\"CPLEX\", options=Options(equation_listing_limit=200, variable_listing_limit=200))"
      ],
      "metadata": {
        "id": "eAEjtIm5hMXk",
        "outputId": "ede80826-17ba-476d-b8e2-09d5a59a3904",
        "colab": {
          "base_uri": "https://localhost:8080/",
          "height": 81
        }
      },
      "execution_count": 223,
      "outputs": [
        {
          "output_type": "execute_result",
          "data": {
            "text/plain": [
              "  Solver Status   Model Status Objective Num of Equations Num of Variables  \\\n",
              "0        Normal  OptimalGlobal   1164000               55               43   \n",
              "\n",
              "  Model Type Solver Solver Time  \n",
              "0         LP  CPLEX       0.025  "
            ],
            "text/html": [
              "\n",
              "  <div id=\"df-0e8b3487-8bc7-4a06-a259-a6ccf505af04\" class=\"colab-df-container\">\n",
              "    <div>\n",
              "<style scoped>\n",
              "    .dataframe tbody tr th:only-of-type {\n",
              "        vertical-align: middle;\n",
              "    }\n",
              "\n",
              "    .dataframe tbody tr th {\n",
              "        vertical-align: top;\n",
              "    }\n",
              "\n",
              "    .dataframe thead th {\n",
              "        text-align: right;\n",
              "    }\n",
              "</style>\n",
              "<table border=\"1\" class=\"dataframe\">\n",
              "  <thead>\n",
              "    <tr style=\"text-align: right;\">\n",
              "      <th></th>\n",
              "      <th>Solver Status</th>\n",
              "      <th>Model Status</th>\n",
              "      <th>Objective</th>\n",
              "      <th>Num of Equations</th>\n",
              "      <th>Num of Variables</th>\n",
              "      <th>Model Type</th>\n",
              "      <th>Solver</th>\n",
              "      <th>Solver Time</th>\n",
              "    </tr>\n",
              "  </thead>\n",
              "  <tbody>\n",
              "    <tr>\n",
              "      <th>0</th>\n",
              "      <td>Normal</td>\n",
              "      <td>OptimalGlobal</td>\n",
              "      <td>1164000</td>\n",
              "      <td>55</td>\n",
              "      <td>43</td>\n",
              "      <td>LP</td>\n",
              "      <td>CPLEX</td>\n",
              "      <td>0.025</td>\n",
              "    </tr>\n",
              "  </tbody>\n",
              "</table>\n",
              "</div>\n",
              "    <div class=\"colab-df-buttons\">\n",
              "\n",
              "  <div class=\"colab-df-container\">\n",
              "    <button class=\"colab-df-convert\" onclick=\"convertToInteractive('df-0e8b3487-8bc7-4a06-a259-a6ccf505af04')\"\n",
              "            title=\"Convert this dataframe to an interactive table.\"\n",
              "            style=\"display:none;\">\n",
              "\n",
              "  <svg xmlns=\"http://www.w3.org/2000/svg\" height=\"24px\" viewBox=\"0 -960 960 960\">\n",
              "    <path d=\"M120-120v-720h720v720H120Zm60-500h600v-160H180v160Zm220 220h160v-160H400v160Zm0 220h160v-160H400v160ZM180-400h160v-160H180v160Zm440 0h160v-160H620v160ZM180-180h160v-160H180v160Zm440 0h160v-160H620v160Z\"/>\n",
              "  </svg>\n",
              "    </button>\n",
              "\n",
              "  <style>\n",
              "    .colab-df-container {\n",
              "      display:flex;\n",
              "      gap: 12px;\n",
              "    }\n",
              "\n",
              "    .colab-df-convert {\n",
              "      background-color: #E8F0FE;\n",
              "      border: none;\n",
              "      border-radius: 50%;\n",
              "      cursor: pointer;\n",
              "      display: none;\n",
              "      fill: #1967D2;\n",
              "      height: 32px;\n",
              "      padding: 0 0 0 0;\n",
              "      width: 32px;\n",
              "    }\n",
              "\n",
              "    .colab-df-convert:hover {\n",
              "      background-color: #E2EBFA;\n",
              "      box-shadow: 0px 1px 2px rgba(60, 64, 67, 0.3), 0px 1px 3px 1px rgba(60, 64, 67, 0.15);\n",
              "      fill: #174EA6;\n",
              "    }\n",
              "\n",
              "    .colab-df-buttons div {\n",
              "      margin-bottom: 4px;\n",
              "    }\n",
              "\n",
              "    [theme=dark] .colab-df-convert {\n",
              "      background-color: #3B4455;\n",
              "      fill: #D2E3FC;\n",
              "    }\n",
              "\n",
              "    [theme=dark] .colab-df-convert:hover {\n",
              "      background-color: #434B5C;\n",
              "      box-shadow: 0px 1px 3px 1px rgba(0, 0, 0, 0.15);\n",
              "      filter: drop-shadow(0px 1px 2px rgba(0, 0, 0, 0.3));\n",
              "      fill: #FFFFFF;\n",
              "    }\n",
              "  </style>\n",
              "\n",
              "    <script>\n",
              "      const buttonEl =\n",
              "        document.querySelector('#df-0e8b3487-8bc7-4a06-a259-a6ccf505af04 button.colab-df-convert');\n",
              "      buttonEl.style.display =\n",
              "        google.colab.kernel.accessAllowed ? 'block' : 'none';\n",
              "\n",
              "      async function convertToInteractive(key) {\n",
              "        const element = document.querySelector('#df-0e8b3487-8bc7-4a06-a259-a6ccf505af04');\n",
              "        const dataTable =\n",
              "          await google.colab.kernel.invokeFunction('convertToInteractive',\n",
              "                                                    [key], {});\n",
              "        if (!dataTable) return;\n",
              "\n",
              "        const docLinkHtml = 'Like what you see? Visit the ' +\n",
              "          '<a target=\"_blank\" href=https://colab.research.google.com/notebooks/data_table.ipynb>data table notebook</a>'\n",
              "          + ' to learn more about interactive tables.';\n",
              "        element.innerHTML = '';\n",
              "        dataTable['output_type'] = 'display_data';\n",
              "        await google.colab.output.renderOutput(dataTable, element);\n",
              "        const docLink = document.createElement('div');\n",
              "        docLink.innerHTML = docLinkHtml;\n",
              "        element.appendChild(docLink);\n",
              "      }\n",
              "    </script>\n",
              "  </div>\n",
              "\n",
              "\n",
              "    </div>\n",
              "  </div>\n"
            ],
            "application/vnd.google.colaboratory.intrinsic+json": {
              "type": "dataframe",
              "summary": "{\n  \"name\": \"flow\",\n  \"rows\": 1,\n  \"fields\": [\n    {\n      \"column\": \"Solver Status\",\n      \"properties\": {\n        \"dtype\": \"string\",\n        \"num_unique_values\": 1,\n        \"samples\": [\n          \"Normal\"\n        ],\n        \"semantic_type\": \"\",\n        \"description\": \"\"\n      }\n    },\n    {\n      \"column\": \"Model Status\",\n      \"properties\": {\n        \"dtype\": \"string\",\n        \"num_unique_values\": 1,\n        \"samples\": [\n          \"OptimalGlobal\"\n        ],\n        \"semantic_type\": \"\",\n        \"description\": \"\"\n      }\n    },\n    {\n      \"column\": \"Objective\",\n      \"properties\": {\n        \"dtype\": \"string\",\n        \"num_unique_values\": 1,\n        \"samples\": [\n          \"1164000\"\n        ],\n        \"semantic_type\": \"\",\n        \"description\": \"\"\n      }\n    },\n    {\n      \"column\": \"Num of Equations\",\n      \"properties\": {\n        \"dtype\": \"string\",\n        \"num_unique_values\": 1,\n        \"samples\": [\n          \"55\"\n        ],\n        \"semantic_type\": \"\",\n        \"description\": \"\"\n      }\n    },\n    {\n      \"column\": \"Num of Variables\",\n      \"properties\": {\n        \"dtype\": \"string\",\n        \"num_unique_values\": 1,\n        \"samples\": [\n          \"43\"\n        ],\n        \"semantic_type\": \"\",\n        \"description\": \"\"\n      }\n    },\n    {\n      \"column\": \"Model Type\",\n      \"properties\": {\n        \"dtype\": \"string\",\n        \"num_unique_values\": 1,\n        \"samples\": [\n          \"LP\"\n        ],\n        \"semantic_type\": \"\",\n        \"description\": \"\"\n      }\n    },\n    {\n      \"column\": \"Solver\",\n      \"properties\": {\n        \"dtype\": \"string\",\n        \"num_unique_values\": 1,\n        \"samples\": [\n          \"CPLEX\"\n        ],\n        \"semantic_type\": \"\",\n        \"description\": \"\"\n      }\n    },\n    {\n      \"column\": \"Solver Time\",\n      \"properties\": {\n        \"dtype\": \"string\",\n        \"num_unique_values\": 1,\n        \"samples\": [\n          \"0.025\"\n        ],\n        \"semantic_type\": \"\",\n        \"description\": \"\"\n      }\n    }\n  ]\n}"
            }
          },
          "metadata": {},
          "execution_count": 223
        }
      ]
    }
  ],
  "metadata": {
    "language_info": {
      "name": "python"
    },
    "colab": {
      "provenance": [],
      "include_colab_link": true
    },
    "kernelspec": {
      "name": "python3",
      "display_name": "Python 3"
    }
  },
  "nbformat": 4,
  "nbformat_minor": 0
}